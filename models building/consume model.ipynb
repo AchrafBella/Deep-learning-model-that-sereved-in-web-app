{
 "cells": [
  {
   "cell_type": "code",
   "execution_count": 1,
   "id": "cc38a460",
   "metadata": {},
   "outputs": [
    {
     "name": "stdout",
     "output_type": "stream",
     "text": [
      "(31, 31)\n",
      "(1, 31, 31, 1)\n"
     ]
    }
   ],
   "source": [
    "from PIL import Image\n",
    "import numpy as np\n",
    "\n",
    "# Specify the path to your image file\n",
    "image_path = 'partA_data/train/Brinjal/0006.jpg'\n",
    "\n",
    "# Read the image in grayscale using Pillow\n",
    "img = Image.open(image_path).convert(\"L\")\n",
    "\n",
    "# Resize the image using Pillow\n",
    "img_resized = img.resize((31, 31))\n",
    "\n",
    "# Convert the Pillow image to a NumPy array and normalize\n",
    "img_array = np.array(img_resized, dtype=np.float32) / 255.0\n",
    "print(img_array.shape)\n",
    "# Reshape the array\n",
    "img_1_dim2 = img_array.reshape(-1, 31, 31, 1)\n",
    "print(img_1_dim2.shape)"
   ]
  },
  {
   "cell_type": "code",
   "execution_count": 16,
   "id": "fd8ecbd3",
   "metadata": {},
   "outputs": [
    {
     "ename": "_InactiveRpcError",
     "evalue": "<_InactiveRpcError of RPC that terminated with:\n\tstatus = StatusCode.UNAVAILABLE\n\tdetails = \"failed to connect to all addresses; last error: UNAVAILABLE: ipv4:0.0.0.0:8501: WSA Error\"\n\tdebug_error_string = \"UNKNOWN:Error received from peer  {grpc_message:\"failed to connect to all addresses; last error: UNAVAILABLE: ipv4:0.0.0.0:8501: WSA Error\", grpc_status:14, created_time:\"2024-01-19T13:04:43.9358812+00:00\"}\"\n>",
     "output_type": "error",
     "traceback": [
      "\u001b[1;31m---------------------------------------------------------------------------\u001b[0m",
      "\u001b[1;31m_InactiveRpcError\u001b[0m                         Traceback (most recent call last)",
      "Cell \u001b[1;32mIn[16], line 20\u001b[0m\n\u001b[0;32m     16\u001b[0m request\u001b[38;5;241m.\u001b[39minputs[\u001b[38;5;124m\"\u001b[39m\u001b[38;5;124minput_tensor\u001b[39m\u001b[38;5;124m\"\u001b[39m]\u001b[38;5;241m.\u001b[39mCopyFrom(img_tensor)\n\u001b[0;32m     19\u001b[0m \u001b[38;5;66;03m# Make a prediction request\u001b[39;00m\n\u001b[1;32m---> 20\u001b[0m result \u001b[38;5;241m=\u001b[39m stub\u001b[38;5;241m.\u001b[39mPredict(request, \u001b[38;5;241m10.0\u001b[39m)  \u001b[38;5;66;03m# 10 sec timeout\u001b[39;00m\n\u001b[0;32m     22\u001b[0m \u001b[38;5;66;03m# Process the response\u001b[39;00m\n\u001b[0;32m     23\u001b[0m output_data \u001b[38;5;241m=\u001b[39m result\u001b[38;5;241m.\u001b[39moutputs[\u001b[38;5;124m'\u001b[39m\u001b[38;5;124moutput_key\u001b[39m\u001b[38;5;124m'\u001b[39m]\n",
      "File \u001b[1;32m~\\AppData\\Local\\anaconda3\\Lib\\site-packages\\grpc\\_channel.py:1160\u001b[0m, in \u001b[0;36m_UnaryUnaryMultiCallable.__call__\u001b[1;34m(self, request, timeout, metadata, credentials, wait_for_ready, compression)\u001b[0m\n\u001b[0;32m   1145\u001b[0m \u001b[38;5;28;01mdef\u001b[39;00m \u001b[38;5;21m__call__\u001b[39m(\n\u001b[0;32m   1146\u001b[0m     \u001b[38;5;28mself\u001b[39m,\n\u001b[0;32m   1147\u001b[0m     request: Any,\n\u001b[1;32m   (...)\u001b[0m\n\u001b[0;32m   1152\u001b[0m     compression: Optional[grpc\u001b[38;5;241m.\u001b[39mCompression] \u001b[38;5;241m=\u001b[39m \u001b[38;5;28;01mNone\u001b[39;00m,\n\u001b[0;32m   1153\u001b[0m ) \u001b[38;5;241m-\u001b[39m\u001b[38;5;241m>\u001b[39m Any:\n\u001b[0;32m   1154\u001b[0m     (\n\u001b[0;32m   1155\u001b[0m         state,\n\u001b[0;32m   1156\u001b[0m         call,\n\u001b[0;32m   1157\u001b[0m     ) \u001b[38;5;241m=\u001b[39m \u001b[38;5;28mself\u001b[39m\u001b[38;5;241m.\u001b[39m_blocking(\n\u001b[0;32m   1158\u001b[0m         request, timeout, metadata, credentials, wait_for_ready, compression\n\u001b[0;32m   1159\u001b[0m     )\n\u001b[1;32m-> 1160\u001b[0m     \u001b[38;5;28;01mreturn\u001b[39;00m _end_unary_response_blocking(state, call, \u001b[38;5;28;01mFalse\u001b[39;00m, \u001b[38;5;28;01mNone\u001b[39;00m)\n",
      "File \u001b[1;32m~\\AppData\\Local\\anaconda3\\Lib\\site-packages\\grpc\\_channel.py:1003\u001b[0m, in \u001b[0;36m_end_unary_response_blocking\u001b[1;34m(state, call, with_call, deadline)\u001b[0m\n\u001b[0;32m   1001\u001b[0m         \u001b[38;5;28;01mreturn\u001b[39;00m state\u001b[38;5;241m.\u001b[39mresponse\n\u001b[0;32m   1002\u001b[0m \u001b[38;5;28;01melse\u001b[39;00m:\n\u001b[1;32m-> 1003\u001b[0m     \u001b[38;5;28;01mraise\u001b[39;00m _InactiveRpcError(state)\n",
      "\u001b[1;31m_InactiveRpcError\u001b[0m: <_InactiveRpcError of RPC that terminated with:\n\tstatus = StatusCode.UNAVAILABLE\n\tdetails = \"failed to connect to all addresses; last error: UNAVAILABLE: ipv4:0.0.0.0:8501: WSA Error\"\n\tdebug_error_string = \"UNKNOWN:Error received from peer  {grpc_message:\"failed to connect to all addresses; last error: UNAVAILABLE: ipv4:0.0.0.0:8501: WSA Error\", grpc_status:14, created_time:\"2024-01-19T13:04:43.9358812+00:00\"}\"\n>"
     ]
    }
   ],
   "source": [
    "import grpc\n",
    "from tensorflow_serving.apis import prediction_service_pb2_grpc\n",
    "from tensorflow_serving.apis import predict_pb2\n",
    "import tensorflow as tf\n",
    "\n",
    "# Create a gRPC channel and stub\n",
    "channel = grpc.insecure_channel('0.0.0.0:8501')\n",
    "stub = prediction_service_pb2_grpc.PredictionServiceStub(channel)\n",
    "\n",
    "img_tensor = tf.make_tensor_proto(img_1_dim2, shape=img_1_dim2.shape)\n",
    "\n",
    "# Prepare the request payload\n",
    "request = predict_pb2.PredictRequest()\n",
    "request.model_spec.name = 'model'\n",
    "request.model_spec.signature_name = 'serving_default'\n",
    "request.inputs[\"input_tensor\"].CopyFrom(img_tensor)\n",
    "\n",
    "\n",
    "# Make a prediction request\n",
    "result = stub.Predict(request, 10.0)  # 10 sec timeout\n",
    "\n",
    "# Process the response\n",
    "output_data = result.outputs['output_key']"
   ]
  },
  {
   "cell_type": "code",
   "execution_count": null,
   "id": "208ff6f5",
   "metadata": {},
   "outputs": [],
   "source": []
  }
 ],
 "metadata": {
  "kernelspec": {
   "display_name": "Python 3 (ipykernel)",
   "language": "python",
   "name": "python3"
  },
  "language_info": {
   "codemirror_mode": {
    "name": "ipython",
    "version": 3
   },
   "file_extension": ".py",
   "mimetype": "text/x-python",
   "name": "python",
   "nbconvert_exporter": "python",
   "pygments_lexer": "ipython3",
   "version": "3.11.5"
  }
 },
 "nbformat": 4,
 "nbformat_minor": 5
}
